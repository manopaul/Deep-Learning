{
 "cells": [
  {
   "cell_type": "markdown",
   "metadata": {
    "collapsed": true
   },
   "source": [
    "# Image Classification\n",
    "In this project, you'll classify images from the [CIFAR-10 dataset](https://www.cs.toronto.edu/~kriz/cifar.html).  The dataset consists of airplanes, dogs, cats, and other objects. You'll preprocess the images, then train a convolutional neural network on all the samples. The images need to be normalized and the labels need to be one-hot encoded.  You'll get to apply what you learned and build a convolutional, max pooling, dropout, and fully connected layers.  At the end, you'll get to see your neural network's predictions on the sample images.\n",
    "## Get the Data\n",
    "Run the following cell to download the [CIFAR-10 dataset for python](https://www.cs.toronto.edu/~kriz/cifar-10-python.tar.gz)."
   ]
  },
  {
   "cell_type": "code",
   "execution_count": 1,
   "metadata": {},
   "outputs": [
    {
     "name": "stdout",
     "output_type": "stream",
     "text": [
      "All files found!\n"
     ]
    }
   ],
   "source": [
    "\"\"\"\n",
    "DON'T MODIFY ANYTHING IN THIS CELL THAT IS BELOW THIS LINE\n",
    "\"\"\"\n",
    "from urllib.request import urlretrieve\n",
    "from os.path import isfile, isdir\n",
    "from tqdm import tqdm\n",
    "import problem_unittests as tests\n",
    "import tarfile\n",
    "\n",
    "cifar10_dataset_folder_path = 'cifar-10-batches-py'\n",
    "\n",
    "# Use Floyd's cifar-10 dataset if present\n",
    "floyd_cifar10_location = '/cifar/cifar-10-python.tar.gz'\n",
    "if isfile(floyd_cifar10_location):\n",
    "    tar_gz_path = floyd_cifar10_location\n",
    "else:\n",
    "    tar_gz_path = 'cifar-10-python.tar.gz'\n",
    "\n",
    "class DLProgress(tqdm):\n",
    "    last_block = 0\n",
    "\n",
    "    def hook(self, block_num=1, block_size=1, total_size=None):\n",
    "        self.total = total_size\n",
    "        self.update((block_num - self.last_block) * block_size)\n",
    "        self.last_block = block_num\n",
    "\n",
    "if not isfile(tar_gz_path):\n",
    "    with DLProgress(unit='B', unit_scale=True, miniters=1, desc='CIFAR-10 Dataset') as pbar:\n",
    "        urlretrieve(\n",
    "            'https://www.cs.toronto.edu/~kriz/cifar-10-python.tar.gz',\n",
    "            tar_gz_path,\n",
    "            pbar.hook)\n",
    "\n",
    "if not isdir(cifar10_dataset_folder_path):\n",
    "    with tarfile.open(tar_gz_path) as tar:\n",
    "        tar.extractall()\n",
    "        tar.close()\n",
    "\n",
    "\n",
    "tests.test_folder_path(cifar10_dataset_folder_path)"
   ]
  },
  {
   "cell_type": "markdown",
   "metadata": {},
   "source": [
    "## Explore the Data\n",
    "The dataset is broken into batches to prevent your machine from running out of memory.  The CIFAR-10 dataset consists of 5 batches, named `data_batch_1`, `data_batch_2`, etc.. Each batch contains the labels and images that are one of the following:\n",
    "* airplane\n",
    "* automobile\n",
    "* bird\n",
    "* cat\n",
    "* deer\n",
    "* dog\n",
    "* frog\n",
    "* horse\n",
    "* ship\n",
    "* truck\n",
    "\n",
    "Understanding a dataset is part of making predictions on the data.  Play around with the code cell below by changing the `batch_id` and `sample_id`. The `batch_id` is the id for a batch (1-5). The `sample_id` is the id for a image and label pair in the batch.\n",
    "\n",
    "Ask yourself \"What are all possible labels?\", \"What is the range of values for the image data?\", \"Are the labels in order or random?\".  Answers to questions like these will help you preprocess the data and end up with better predictions."
   ]
  },
  {
   "cell_type": "code",
   "execution_count": 2,
   "metadata": {},
   "outputs": [
    {
     "name": "stdout",
     "output_type": "stream",
     "text": [
      "\n",
      "Stats of batch 1:\n",
      "Samples: 10000\n",
      "Label Counts: {0: 1005, 1: 974, 2: 1032, 3: 1016, 4: 999, 5: 937, 6: 1030, 7: 1001, 8: 1025, 9: 981}\n",
      "First 20 Labels: [6, 9, 9, 4, 1, 1, 2, 7, 8, 3, 4, 7, 7, 2, 9, 9, 9, 3, 2, 6]\n",
      "\n",
      "Example of Image 77:\n",
      "Image - Min Value: 19 Max Value: 250\n",
      "Image - Shape: (32, 32, 3)\n",
      "Label - Label Id: 0 Name: airplane\n"
     ]
    },
    {
     "data": {
      "image/png": "[encoded data removed]",
      "text/plain": [
       "<matplotlib.figure.Figure at 0x118dd2b70>"
      ]
     },
     "metadata": {
      "image/png": {
       "height": 250,
       "width": 253
      }
     },
     "output_type": "display_data"
    }
   ],
   "source": [
    "%matplotlib inline\n",
    "%config InlineBackend.figure_format = 'retina'\n",
    "\n",
    "import helper\n",
    "import numpy as np\n",
    "\n",
    "# Explore the dataset\n",
    "batch_id = 1\n",
    "sample_id = 77\n",
    "helper.display_stats(cifar10_dataset_folder_path, batch_id, sample_id)"
   ]
  },
  {
   "cell_type": "markdown",
   "metadata": {},
   "source": [
    "## Implement Preprocess Functions\n",
    "### Normalize\n",
    "In the cell below, implement the `normalize` function to take in image data, `x`, and return it as a normalized Numpy array. The values should be in the range of 0 to 1, inclusive.  The return object should be the same shape as `x`."
   ]
  },
  {
   "cell_type": "code",
   "execution_count": 3,
   "metadata": {},
   "outputs": [
    {
     "name": "stdout",
     "output_type": "stream",
     "text": [
      "Tests Passed\n"
     ]
    }
   ],
   "source": [
    "def normalize(x):\n",
    "    \"\"\"\n",
    "    Normalize a list of sample image data in the range of 0 to 1\n",
    "    : x: List of image data.  The image shape is (32, 32, 3)\n",
    "    : return: Numpy array of normalize data\n",
    "    \"\"\"\n",
    "    # TODO: Implement Function\n",
    "    a = 0\n",
    "    b = 1\n",
    "    min_x = np.min(x)\n",
    "    max_x = np.max(x)\n",
    "    normalized_x = a + (((x - min_x)*(b - a))/( max_x - min_x))\n",
    "    #or normalized_x = x / 255 when a = 0 and b = 1\n",
    "    return normalized_x\n",
    "\n",
    "\"\"\"\n",
    "DON'T MODIFY ANYTHING IN THIS CELL THAT IS BELOW THIS LINE\n",
    "\"\"\"\n",
    "tests.test_normalize(normalize)"
   ]
  },
  {
   "cell_type": "markdown",
   "metadata": {},
   "source": [
    "### One-hot encode\n",
    "Just like the previous code cell, you'll be implementing a function for preprocessing.  This time, you'll implement the `one_hot_encode` function. The input, `x`, are a list of labels.  Implement the function to return the list of labels as One-Hot encoded Numpy array.  The possible values for labels are 0 to 9. The one-hot encoding function should return the same encoding for each value between each call to `one_hot_encode`.  Make sure to save the map of encodings outside the function.\n",
    "\n",
    "Hint: Don't reinvent the wheel."
   ]
  },
  {
   "cell_type": "code",
   "execution_count": 4,
   "metadata": {},
   "outputs": [
    {
     "name": "stdout",
     "output_type": "stream",
     "text": [
      "Tests Passed\n"
     ]
    }
   ],
   "source": [
    "def one_hot_encode(x):\n",
    "    \"\"\"\n",
    "    One hot encode a list of sample labels. Return a one-hot encoded vector for each label.\n",
    "    : x: List of sample Labels\n",
    "    : return: Numpy array of one-hot encoded labels\n",
    "    \"\"\"\n",
    "    # TODO: Implement Function\n",
    "    return np.identity(10)[x]\n",
    "    # can also use np.eye(10)[x]\n",
    "\n",
    "\"\"\"\n",
    "DON'T MODIFY ANYTHING IN THIS CELL THAT IS BELOW THIS LINE\n",
    "\"\"\"\n",
    "tests.test_one_hot_encode(one_hot_encode)"
   ]
  },
  {
   "cell_type": "markdown",
   "metadata": {},
   "source": [
    "### Randomize Data\n",
    "As you saw from exploring the data above, the order of the samples are randomized.  It doesn't hurt to randomize it again, but you don't need to for this dataset."
   ]
  },
  {
   "cell_type": "markdown",
   "metadata": {},
   "source": [
    "## Preprocess all the data and save it\n",
    "Running the code cell below will preprocess all the CIFAR-10 data and save it to file. The code below also uses 10% of the training data for validation."
   ]
  },
  {
   "cell_type": "code",
   "execution_count": 5,
   "metadata": {
    "collapsed": true
   },
   "outputs": [],
   "source": [
    "\"\"\"\n",
    "DON'T MODIFY ANYTHING IN THIS CELL\n",
    "\"\"\"\n",
    "# Preprocess Training, Validation, and Testing Data\n",
    "helper.preprocess_and_save_data(cifar10_dataset_folder_path, normalize, one_hot_encode)"
   ]
  },
  {
   "cell_type": "markdown",
   "metadata": {},
   "source": [
    "# Check Point\n",
    "This is your first checkpoint.  If you ever decide to come back to this notebook or have to restart the notebook, you can start from here.  The preprocessed data has been saved to disk."
   ]
  },
  {
   "cell_type": "code",
   "execution_count": 6,
   "metadata": {
    "collapsed": true
   },
   "outputs": [],
   "source": [
    "\"\"\"\n",
    "DON'T MODIFY ANYTHING IN THIS CELL\n",
    "\"\"\"\n",
    "import pickle\n",
    "import problem_unittests as tests\n",
    "import helper\n",
    "\n",
    "# Load the Preprocessed Validation data\n",
    "valid_features, valid_labels = pickle.load(open('preprocess_validation.p', mode='rb'))"
   ]
  },
  {
   "cell_type": "markdown",
   "metadata": {},
   "source": [
    "## Build the network\n",
    "For the neural network, you'll build each layer into a function.  Most of the code you've seen has been outside of functions. To test your code more thoroughly, we require that you put each layer in a function.  This allows us to give you better feedback and test for simple mistakes using our unittests before you submit your project.\n",
    "\n",
    ">**Note:** If you're finding it hard to dedicate enough time for this course each week, we've provided a small shortcut to this part of the project. In the next couple of problems, you'll have the option to use classes from the [TensorFlow Layers](https://www.tensorflow.org/api_docs/python/tf/layers) or [TensorFlow Layers (contrib)](https://www.tensorflow.org/api_guides/python/contrib.layers) packages to build each layer, except the layers you build in the \"Convolutional and Max Pooling Layer\" section.  TF Layers is similar to Keras's and TFLearn's abstraction to layers, so it's easy to pickup.\n",
    "\n",
    ">However, if you would like to get the most out of this course, try to solve all the problems _without_ using anything from the TF Layers packages. You **can** still use classes from other packages that happen to have the same name as ones you find in TF Layers! For example, instead of using the TF Layers version of the `conv2d` class, [tf.layers.conv2d](https://www.tensorflow.org/api_docs/python/tf/layers/conv2d), you would want to use the TF Neural Network version of `conv2d`, [tf.nn.conv2d](https://www.tensorflow.org/api_docs/python/tf/nn/conv2d). \n",
    "\n",
    "Let's begin!\n",
    "\n",
    "### Input\n",
    "The neural network needs to read the image data, one-hot encoded labels, and dropout keep probability. Implement the following functions\n",
    "* Implement `neural_net_image_input`\n",
    " * Return a [TF Placeholder](https://www.tensorflow.org/api_docs/python/tf/placeholder)\n",
    " * Set the shape using `image_shape` with batch size set to `None`.\n",
    " * Name the TensorFlow placeholder \"x\" using the TensorFlow `name` parameter in the [TF Placeholder](https://www.tensorflow.org/api_docs/python/tf/placeholder).\n",
    "* Implement `neural_net_label_input`\n",
    " * Return a [TF Placeholder](https://www.tensorflow.org/api_docs/python/tf/placeholder)\n",
    " * Set the shape using `n_classes` with batch size set to `None`.\n",
    " * Name the TensorFlow placeholder \"y\" using the TensorFlow `name` parameter in the [TF Placeholder](https://www.tensorflow.org/api_docs/python/tf/placeholder).\n",
    "* Implement `neural_net_keep_prob_input`\n",
    " * Return a [TF Placeholder](https://www.tensorflow.org/api_docs/python/tf/placeholder) for dropout keep probability.\n",
    " * Name the TensorFlow placeholder \"keep_prob\" using the TensorFlow `name` parameter in the [TF Placeholder](https://www.tensorflow.org/api_docs/python/tf/placeholder).\n",
    "\n",
    "These names will be used at the end of the project to load your saved model.\n",
    "\n",
    "Note: `None` for shapes in TensorFlow allow for a dynamic size."
   ]
  },
  {
   "cell_type": "code",
   "execution_count": 7,
   "metadata": {},
   "outputs": [
    {
     "name": "stdout",
     "output_type": "stream",
     "text": [
      "Image Input Tests Passed.\n",
      "Label Input Tests Passed.\n",
      "Keep Prob Tests Passed.\n"
     ]
    }
   ],
   "source": [
    "import tensorflow as tf\n",
    "\n",
    "def neural_net_image_input(image_shape):\n",
    "    \"\"\"\n",
    "    Return a Tensor for a batch of image input\n",
    "    : image_shape: Shape of the images\n",
    "    : return: Tensor for image input.\n",
    "    \"\"\"\n",
    "    # TODO: Implement Function\n",
    "    return tf.placeholder(tf.float32, shape=((None,) + image_shape), name='x')\n",
    "\n",
    "def neural_net_label_input(n_classes):\n",
    "    \"\"\"\n",
    "    Return a Tensor for a batch of label input\n",
    "    : n_classes: Number of classes\n",
    "    : return: Tensor for label input.\n",
    "    \"\"\"\n",
    "    # TODO: Implement Function\n",
    "    return tf.placeholder(tf.float32, shape=(None, n_classes), name='y')\n",
    "\n",
    "\n",
    "def neural_net_keep_prob_input():\n",
    "    \"\"\"\n",
    "    Return a Tensor for keep probability\n",
    "    : return: Tensor for keep probability.\n",
    "    \"\"\"\n",
    "    # TODO: Implement Function\n",
    "    return tf.placeholder(tf.float32, shape=(None), name='keep_prob')\n",
    "\n",
    "\n",
    "\"\"\"\n",
    "DON'T MODIFY ANYTHING IN THIS CELL THAT IS BELOW THIS LINE\n",
    "\"\"\"\n",
    "tf.reset_default_graph()\n",
    "tests.test_nn_image_inputs(neural_net_image_input)\n",
    "tests.test_nn_label_inputs(neural_net_label_input)\n",
    "tests.test_nn_keep_prob_inputs(neural_net_keep_prob_input)"
   ]
  },
  {
   "cell_type": "markdown",
   "metadata": {},
   "source": [
    "### Convolution and Max Pooling Layer\n",
    "Convolution layers have a lot of success with images. For this code cell, you should implement the function `conv2d_maxpool` to apply convolution then max pooling:\n",
    "* Create the weight and bias using `conv_ksize`, `conv_num_outputs` and the shape of `x_tensor`.\n",
    "* Apply a convolution to `x_tensor` using weight and `conv_strides`.\n",
    " * We recommend you use same padding, but you're welcome to use any padding.\n",
    "* Add bias\n",
    "* Add a nonlinear activation to the convolution.\n",
    "* Apply Max Pooling using `pool_ksize` and `pool_strides`.\n",
    " * We recommend you use same padding, but you're welcome to use any padding.\n",
    "\n",
    "**Note:** You **can't** use [TensorFlow Layers](https://www.tensorflow.org/api_docs/python/tf/layers) or [TensorFlow Layers (contrib)](https://www.tensorflow.org/api_guides/python/contrib.layers) for **this** layer, but you can still use TensorFlow's [Neural Network](https://www.tensorflow.org/api_docs/python/tf/nn) package. You may still use the shortcut option for all the **other** layers."
   ]
  },
  {
   "cell_type": "code",
   "execution_count": 8,
   "metadata": {},
   "outputs": [
    {
     "name": "stdout",
     "output_type": "stream",
     "text": [
      "Tests Passed\n"
     ]
    }
   ],
   "source": [
    "def conv2d_maxpool(x_tensor, conv_num_outputs, conv_ksize, conv_strides, pool_ksize, pool_strides):\n",
    "    \"\"\"\n",
    "    Apply convolution then max pooling to x_tensor\n",
    "    :param x_tensor: TensorFlow Tensor\n",
    "    :param conv_num_outputs: Number of outputs for the convolutional layer\n",
    "    :param conv_ksize: kernal size 2-D Tuple for the convolutional layer\n",
    "    :param conv_strides: Stride 2-D Tuple for convolution\n",
    "    :param pool_ksize: kernal size 2-D Tuple for pool\n",
    "    :param pool_strides: Stride 2-D Tuple for pool\n",
    "    : return: A tensor that represents convolution and max pooling of x_tensor\n",
    "    \"\"\"\n",
    "    # TODO: Implement Function\n",
    "    weight = tf.Variable(tf.truncated_normal(\n",
    "                    [conv_ksize[0],conv_ksize[1],x_tensor.get_shape().as_list()[3],conv_num_outputs],\n",
    "                    stddev=0.1))\n",
    "    #bias = tf.Variable(tf.random_normal([conv_num_outputs], stddev=0.1))\n",
    "    bias = tf.Variable(tf.zeros(conv_num_outputs))\n",
    "    x = tf.nn.conv2d(x_tensor, weight, [1,conv_strides[0],conv_strides[1],1], padding='SAME')\n",
    "    x = tf.nn.bias_add(x, bias)\n",
    "    x = tf.nn.relu(x)\n",
    "\n",
    "    x = tf.nn.max_pool(x, [1, pool_ksize[0], pool_ksize[1], 1], [1, pool_strides[0], pool_strides[1], 1], padding='SAME')\n",
    "    return x \n",
    "\n",
    "\n",
    "\"\"\"\n",
    "DON'T MODIFY ANYTHING IN THIS CELL THAT IS BELOW THIS LINE\n",
    "\"\"\"\n",
    "tests.test_con_pool(conv2d_maxpool)"
   ]
  },
  {
   "cell_type": "markdown",
   "metadata": {},
   "source": [
    "### Flatten Layer\n",
    "Implement the `flatten` function to change the dimension of `x_tensor` from a 4-D tensor to a 2-D tensor.  The output should be the shape (*Batch Size*, *Flattened Image Size*). Shortcut option: you can use classes from the [TensorFlow Layers](https://www.tensorflow.org/api_docs/python/tf/layers) or [TensorFlow Layers (contrib)](https://www.tensorflow.org/api_guides/python/contrib.layers) packages for this layer. For more of a challenge, only use other TensorFlow packages."
   ]
  },
  {
   "cell_type": "code",
   "execution_count": 9,
   "metadata": {},
   "outputs": [
    {
     "name": "stdout",
     "output_type": "stream",
     "text": [
      "Tests Passed\n"
     ]
    }
   ],
   "source": [
    "def flatten(x_tensor):\n",
    "    \"\"\"\n",
    "    Flatten x_tensor to (Batch Size, Flattened Image Size)\n",
    "    : x_tensor: A tensor of size (Batch Size, ...), where ... are the image dimensions.\n",
    "    : return: A tensor of size (Batch Size, Flattened Image Size).\n",
    "    \"\"\"\n",
    "    # TODO: Implement Function\n",
    "    return tf.contrib.layers.flatten(x_tensor)\n",
    "\n",
    "\n",
    "\"\"\"\n",
    "DON'T MODIFY ANYTHING IN THIS CELL THAT IS BELOW THIS LINE\n",
    "\"\"\"\n",
    "tests.test_flatten(flatten)"
   ]
  },
  {
   "cell_type": "markdown",
   "metadata": {},
   "source": [
    "### Fully-Connected Layer\n",
    "Implement the `fully_conn` function to apply a fully connected layer to `x_tensor` with the shape (*Batch Size*, *num_outputs*). Shortcut option: you can use classes from the [TensorFlow Layers](https://www.tensorflow.org/api_docs/python/tf/layers) or [TensorFlow Layers (contrib)](https://www.tensorflow.org/api_guides/python/contrib.layers) packages for this layer. For more of a challenge, only use other TensorFlow packages."
   ]
  },
  {
   "cell_type": "code",
   "execution_count": 10,
   "metadata": {},
   "outputs": [
    {
     "name": "stdout",
     "output_type": "stream",
     "text": [
      "Tests Passed\n"
     ]
    }
   ],
   "source": [
    "def fully_conn(x_tensor, num_outputs):\n",
    "    \"\"\"\n",
    "    Apply a fully connected layer to x_tensor using weight and bias\n",
    "    : x_tensor: A 2-D tensor where the first dimension is batch size.\n",
    "    : num_outputs: The number of output that the new tensor should be.\n",
    "    : return: A 2-D tensor where the second dimension is num_outputs.\n",
    "    \"\"\"\n",
    "    # TODO: Implement Function\n",
    "    return tf.contrib.layers.fully_connected(x_tensor, num_outputs, tf.nn.relu)\n",
    "\n",
    "\n",
    "\"\"\"\n",
    "DON'T MODIFY ANYTHING IN THIS CELL THAT IS BELOW THIS LINE\n",
    "\"\"\"\n",
    "tests.test_fully_conn(fully_conn)"
   ]
  },
  {
   "cell_type": "markdown",
   "metadata": {},
   "source": [
    "### Output Layer\n",
    "Implement the `output` function to apply a fully connected layer to `x_tensor` with the shape (*Batch Size*, *num_outputs*). Shortcut option: you can use classes from the [TensorFlow Layers](https://www.tensorflow.org/api_docs/python/tf/layers) or [TensorFlow Layers (contrib)](https://www.tensorflow.org/api_guides/python/contrib.layers) packages for this layer. For more of a challenge, only use other TensorFlow packages.\n",
    "\n",
    "**Note:** Activation, softmax, or cross entropy should **not** be applied to this."
   ]
  },
  {
   "cell_type": "code",
   "execution_count": 11,
   "metadata": {},
   "outputs": [
    {
     "name": "stdout",
     "output_type": "stream",
     "text": [
      "Tests Passed\n"
     ]
    }
   ],
   "source": [
    "def output(x_tensor, num_outputs):\n",
    "    \"\"\"\n",
    "    Apply a output layer to x_tensor using weight and bias\n",
    "    : x_tensor: A 2-D tensor where the first dimension is batch size.\n",
    "    : num_outputs: The number of output that the new tensor should be.\n",
    "    : return: A 2-D tensor where the second dimension is num_outputs.\n",
    "    \"\"\"\n",
    "    # TODO: Implement Function\n",
    "    return tf.contrib.layers.fully_connected(x_tensor, num_outputs, activation_fn=None)\n",
    "\n",
    "\"\"\"\n",
    "DON'T MODIFY ANYTHING IN THIS CELL THAT IS BELOW THIS LINE\n",
    "\"\"\"\n",
    "tests.test_output(output)"
   ]
  },
  {
   "cell_type": "markdown",
   "metadata": {},
   "source": [
    "### Create Convolutional Model\n",
    "Implement the function `conv_net` to create a convolutional neural network model. The function takes in a batch of images, `x`, and outputs logits.  Use the layers you created above to create this model:\n",
    "\n",
    "* Apply 1, 2, or 3 Convolution and Max Pool layers\n",
    "* Apply a Flatten Layer\n",
    "* Apply 1, 2, or 3 Fully Connected Layers\n",
    "* Apply an Output Layer\n",
    "* Return the output\n",
    "* Apply [TensorFlow's Dropout](https://www.tensorflow.org/api_docs/python/tf/nn/dropout) to one or more layers in the model using `keep_prob`. "
   ]
  },
  {
   "cell_type": "code",
   "execution_count": 12,
   "metadata": {},
   "outputs": [
    {
     "name": "stdout",
     "output_type": "stream",
     "text": [
      "Neural Network Built!\n"
     ]
    }
   ],
   "source": [
    "def conv_net(x, keep_prob):\n",
    "    \"\"\"\n",
    "    Create a convolutional neural network model\n",
    "    : x: Placeholder tensor that holds image data.\n",
    "    : keep_prob: Placeholder tensor that hold dropout keep probability.\n",
    "    : return: Tensor that represents logits\n",
    "    \"\"\"\n",
    "    # TODO: Apply 1, 2, or 3 Convolution and Max Pool layers\n",
    "    #    Play around with different number of outputs, kernel size and stride\n",
    "    # Function Definition from Above:\n",
    "    #    conv2d_maxpool(x_tensor, conv_num_outputs, conv_ksize, conv_strides, pool_ksize, pool_strides)\n",
    "    conv_num_outputs = 64 #64 # conv_ksize[0]*conv_ksize[1]\n",
    "    conv_ksize = (5,5) # kernel size\n",
    "    conv_strides = (1,1) # (conv_ksize[0]/2, conv_ksize[1]/2)\n",
    "    pool_ksize = (2,2) # (conv_strides[0], conv_strides[1])\n",
    "    pool_strides = (2,2) # (pool_ksize[0]/2, pool_ksize[1]/2)\n",
    "    \n",
    "    cnn_model_layer1 = conv2d_maxpool(x, conv_num_outputs, conv_ksize, conv_strides, pool_ksize, pool_strides)\n",
    "    cnn_model = conv2d_maxpool(cnn_model_layer1, conv_num_outputs, conv_ksize, conv_strides, pool_ksize, pool_strides)\n",
    "    #cnn_model = conv2d_maxpool(cnn_model, conv_num_outputs, conv_ksize, conv_strides, pool_ksize, pool_strides)\n",
    "\n",
    "    # TODO: Apply a Flatten Layer\n",
    "    # Function Definition from Above:\n",
    "    #   flatten(x_tensor)\n",
    "    \n",
    "    cnn_model = flatten(cnn_model)\n",
    "    \n",
    "    # dropout\n",
    "    cnn_model = tf.nn.dropout(cnn_model, keep_prob)\n",
    "    \n",
    "    # TODO: Apply 1, 2, or 3 Fully Connected Layers\n",
    "    #    Play around with different number of outputs\n",
    "    # Function Definition from Above:\n",
    "    #   fully_conn(x_tensor, num_outputs)\n",
    "    \n",
    "    #fc_layer = fully_conn(flat_layer, num_outputs*2)\n",
    "    cnn_model = fully_conn(cnn_model, 384)\n",
    "    \n",
    "    # dropout\n",
    "    cnn_model = tf.nn.dropout(cnn_model, keep_prob)\n",
    "    \n",
    "    # TODO: Apply an Output Layer\n",
    "    #    Set this to the number of classes\n",
    "    # Function Definition from Above:\n",
    "    #   output(x_tensor, num_outputs)\n",
    "    num_outputs = 10 #10 labels\n",
    "    cnn_model = output(cnn_model, num_outputs)\n",
    "    \n",
    "    # TODO: return output\n",
    "    return cnn_model\n",
    "\n",
    "\"\"\"\n",
    "DON'T MODIFY ANYTHING IN THIS CELL THAT IS BELOW THIS LINE\n",
    "\"\"\"\n",
    "\n",
    "##############################\n",
    "## Build the Neural Network ##\n",
    "##############################\n",
    "\n",
    "# Remove previous weights, bias, inputs, etc..\n",
    "tf.reset_default_graph()\n",
    "\n",
    "# Inputs\n",
    "x = neural_net_image_input((32, 32, 3))\n",
    "y = neural_net_label_input(10)\n",
    "keep_prob = neural_net_keep_prob_input()\n",
    "\n",
    "# Model\n",
    "logits = conv_net(x, keep_prob)\n",
    "\n",
    "# Name logits Tensor, so that is can be loaded from disk after training\n",
    "logits = tf.identity(logits, name='logits')\n",
    "\n",
    "# Loss and Optimizer\n",
    "cost = tf.reduce_mean(tf.nn.softmax_cross_entropy_with_logits(logits=logits, labels=y))\n",
    "optimizer = tf.train.AdamOptimizer().minimize(cost)\n",
    "\n",
    "# Accuracy\n",
    "correct_pred = tf.equal(tf.argmax(logits, 1), tf.argmax(y, 1))\n",
    "accuracy = tf.reduce_mean(tf.cast(correct_pred, tf.float32), name='accuracy')\n",
    "\n",
    "tests.test_conv_net(conv_net)"
   ]
  },
  {
   "cell_type": "markdown",
   "metadata": {},
   "source": [
    "## Train the Neural Network\n",
    "### Single Optimization\n",
    "Implement the function `train_neural_network` to do a single optimization.  The optimization should use `optimizer` to optimize in `session` with a `feed_dict` of the following:\n",
    "* `x` for image input\n",
    "* `y` for labels\n",
    "* `keep_prob` for keep probability for dropout\n",
    "\n",
    "This function will be called for each batch, so `tf.global_variables_initializer()` has already been called.\n",
    "\n",
    "Note: Nothing needs to be returned. This function is only optimizing the neural network."
   ]
  },
  {
   "cell_type": "code",
   "execution_count": 13,
   "metadata": {},
   "outputs": [
    {
     "name": "stdout",
     "output_type": "stream",
     "text": [
      "Tests Passed\n"
     ]
    }
   ],
   "source": [
    "def train_neural_network(session, optimizer, keep_probability, feature_batch, label_batch):\n",
    "    \"\"\"\n",
    "    Optimize the session on a batch of images and labels\n",
    "    : session: Current TensorFlow session\n",
    "    : optimizer: TensorFlow optimizer function\n",
    "    : keep_probability: keep probability\n",
    "    : feature_batch: Batch of Numpy image data\n",
    "    : label_batch: Batch of Numpy label data\n",
    "    \"\"\"\n",
    "    # TODO: Implement Function\n",
    "    session.run(optimizer, \\\n",
    "                feed_dict={x: feature_batch, \\\n",
    "                           y: label_batch, \\\n",
    "                           keep_prob: keep_probability})\n",
    "\n",
    "\"\"\"\n",
    "DON'T MODIFY ANYTHING IN THIS CELL THAT IS BELOW THIS LINE\n",
    "\"\"\"\n",
    "tests.test_train_nn(train_neural_network)"
   ]
  },
  {
   "cell_type": "markdown",
   "metadata": {},
   "source": [
    "### Show Stats\n",
    "Implement the function `print_stats` to print loss and validation accuracy.  Use the global variables `valid_features` and `valid_labels` to calculate validation accuracy.  Use a keep probability of `1.0` to calculate the loss and validation accuracy."
   ]
  },
  {
   "cell_type": "code",
   "execution_count": 14,
   "metadata": {
    "collapsed": true
   },
   "outputs": [],
   "source": [
    "def print_stats(session, feature_batch, label_batch, cost, accuracy):\n",
    "    \"\"\"\n",
    "    Print information about loss and validation accuracy\n",
    "    : session: Current TensorFlow session\n",
    "    : feature_batch: Batch of Numpy image data\n",
    "    : label_batch: Batch of Numpy label data\n",
    "    : cost: TensorFlow cost function\n",
    "    : accuracy: TensorFlow accuracy function\n",
    "    \"\"\"\n",
    "    # TODO: Implement Function\n",
    "    val_loss = session.run(cost, feed_dict={x: feature_batch, \\\n",
    "                                            y: label_batch, \\\n",
    "                                            keep_prob: 1.})\n",
    "    \n",
    "    val_accuracy = session.run(accuracy, feed_dict={x: valid_features, \\\n",
    "                                                           y: valid_labels, \\\n",
    "                                                           keep_prob: 1.})\n",
    "    \n",
    "    print('Validation Loss: {:.4f} & Validation Accuracy: {:.2f}%'.format(val_loss, val_accuracy*100), end='\\n')"
   ]
  },
  {
   "cell_type": "markdown",
   "metadata": {},
   "source": [
    "### Hyperparameters\n",
    "Tune the following parameters:\n",
    "* Set `epochs` to the number of iterations until the network stops learning or start overfitting\n",
    "* Set `batch_size` to the highest number that your machine has memory for.  Most people set them to common sizes of memory:\n",
    " * 64\n",
    " * 128\n",
    " * 256\n",
    " * ...\n",
    "* Set `keep_probability` to the probability of keeping a node using dropout"
   ]
  },
  {
   "cell_type": "code",
   "execution_count": 17,
   "metadata": {
    "collapsed": true
   },
   "outputs": [],
   "source": [
    "# TODO: Tune Parameters\n",
    "epochs = 35\n",
    "batch_size = 512\n",
    "keep_probability = 0.4"
   ]
  },
  {
   "cell_type": "markdown",
   "metadata": {},
   "source": [
    "### Train on a Single CIFAR-10 Batch\n",
    "Instead of training the neural network on all the CIFAR-10 batches of data, let's use a single batch. This should save time while you iterate on the model to get a better accuracy.  Once the final validation accuracy is 50% or greater, run the model on all the data in the next section."
   ]
  },
  {
   "cell_type": "code",
   "execution_count": 18,
   "metadata": {},
   "outputs": [
    {
     "name": "stdout",
     "output_type": "stream",
     "text": [
      "Checking the Training on a Single Batch...\n",
      "Epoch  1, CIFAR-10 Batch 1:  Validation Loss: 2.2388 & Validation Accuracy: 23.32%\n",
      "Epoch  2, CIFAR-10 Batch 1:  Validation Loss: 1.9677 & Validation Accuracy: 36.68%\n",
      "Epoch  3, CIFAR-10 Batch 1:  Validation Loss: 1.7860 & Validation Accuracy: 41.04%\n",
      "Epoch  4, CIFAR-10 Batch 1:  Validation Loss: 1.6400 & Validation Accuracy: 43.48%\n",
      "Epoch  5, CIFAR-10 Batch 1:  Validation Loss: 1.5535 & Validation Accuracy: 44.78%\n",
      "Epoch  6, CIFAR-10 Batch 1:  Validation Loss: 1.4473 & Validation Accuracy: 48.74%\n",
      "Epoch  7, CIFAR-10 Batch 1:  Validation Loss: 1.4440 & Validation Accuracy: 46.62%\n",
      "Epoch  8, CIFAR-10 Batch 1:  Validation Loss: 1.3836 & Validation Accuracy: 49.50%\n",
      "Epoch  9, CIFAR-10 Batch 1:  Validation Loss: 1.3213 & Validation Accuracy: 50.52%\n",
      "Epoch 10, CIFAR-10 Batch 1:  Validation Loss: 1.2705 & Validation Accuracy: 51.04%\n",
      "Epoch 11, CIFAR-10 Batch 1:  Validation Loss: 1.2188 & Validation Accuracy: 51.88%\n",
      "Epoch 12, CIFAR-10 Batch 1:  Validation Loss: 1.1817 & Validation Accuracy: 52.58%\n",
      "Epoch 13, CIFAR-10 Batch 1:  Validation Loss: 1.1308 & Validation Accuracy: 53.54%\n",
      "Epoch 14, CIFAR-10 Batch 1:  Validation Loss: 1.0688 & Validation Accuracy: 55.06%\n",
      "Epoch 15, CIFAR-10 Batch 1:  Validation Loss: 1.0211 & Validation Accuracy: 54.68%\n",
      "Epoch 16, CIFAR-10 Batch 1:  Validation Loss: 0.9873 & Validation Accuracy: 55.54%\n",
      "Epoch 17, CIFAR-10 Batch 1:  Validation Loss: 0.9844 & Validation Accuracy: 55.74%\n",
      "Epoch 18, CIFAR-10 Batch 1:  Validation Loss: 0.8945 & Validation Accuracy: 56.88%\n",
      "Epoch 19, CIFAR-10 Batch 1:  Validation Loss: 0.8729 & Validation Accuracy: 56.58%\n",
      "Epoch 20, CIFAR-10 Batch 1:  Validation Loss: 0.8472 & Validation Accuracy: 57.54%\n",
      "Epoch 21, CIFAR-10 Batch 1:  Validation Loss: 0.8304 & Validation Accuracy: 56.64%\n",
      "Epoch 22, CIFAR-10 Batch 1:  Validation Loss: 0.8314 & Validation Accuracy: 57.02%\n",
      "Epoch 23, CIFAR-10 Batch 1:  Validation Loss: 0.7511 & Validation Accuracy: 57.58%\n",
      "Epoch 24, CIFAR-10 Batch 1:  Validation Loss: 0.7155 & Validation Accuracy: 59.18%\n",
      "Epoch 25, CIFAR-10 Batch 1:  Validation Loss: 0.6919 & Validation Accuracy: 59.38%\n",
      "Epoch 26, CIFAR-10 Batch 1:  Validation Loss: 0.6531 & Validation Accuracy: 59.34%\n",
      "Epoch 27, CIFAR-10 Batch 1:  Validation Loss: 0.6469 & Validation Accuracy: 58.78%\n",
      "Epoch 28, CIFAR-10 Batch 1:  Validation Loss: 0.5971 & Validation Accuracy: 60.08%\n",
      "Epoch 29, CIFAR-10 Batch 1:  Validation Loss: 0.5891 & Validation Accuracy: 59.00%\n",
      "Epoch 30, CIFAR-10 Batch 1:  Validation Loss: 0.5644 & Validation Accuracy: 59.86%\n",
      "Epoch 31, CIFAR-10 Batch 1:  Validation Loss: 0.5378 & Validation Accuracy: 60.10%\n",
      "Epoch 32, CIFAR-10 Batch 1:  Validation Loss: 0.5042 & Validation Accuracy: 60.22%\n",
      "Epoch 33, CIFAR-10 Batch 1:  Validation Loss: 0.4894 & Validation Accuracy: 60.74%\n",
      "Epoch 34, CIFAR-10 Batch 1:  Validation Loss: 0.5106 & Validation Accuracy: 59.30%\n",
      "Epoch 35, CIFAR-10 Batch 1:  Validation Loss: 0.4624 & Validation Accuracy: 60.32%\n"
     ]
    }
   ],
   "source": [
    "\"\"\"\n",
    "DON'T MODIFY ANYTHING IN THIS CELL\n",
    "\"\"\"\n",
    "print('Checking the Training on a Single Batch...')\n",
    "with tf.Session() as sess:\n",
    "    # Initializing the variables\n",
    "    sess.run(tf.global_variables_initializer())\n",
    "    \n",
    "    # Training cycle\n",
    "    for epoch in range(epochs):\n",
    "        batch_i = 1\n",
    "        for batch_features, batch_labels in helper.load_preprocess_training_batch(batch_i, batch_size):\n",
    "            train_neural_network(sess, optimizer, keep_probability, batch_features, batch_labels)\n",
    "        print('Epoch {:>2}, CIFAR-10 Batch {}:  '.format(epoch + 1, batch_i), end='')\n",
    "        print_stats(sess, batch_features, batch_labels, cost, accuracy)"
   ]
  },
  {
   "cell_type": "markdown",
   "metadata": {},
   "source": [
    "### Fully Train the Model\n",
    "Now that you got a good accuracy with a single CIFAR-10 batch, try it with all five batches."
   ]
  },
  {
   "cell_type": "code",
   "execution_count": 19,
   "metadata": {},
   "outputs": [
    {
     "name": "stdout",
     "output_type": "stream",
     "text": [
      "Training...\n",
      "Epoch  1, CIFAR-10 Batch 1:  Validation Loss: 2.1025 & Validation Accuracy: 24.56%\n",
      "Epoch  1, CIFAR-10 Batch 2:  Validation Loss: 1.7813 & Validation Accuracy: 37.72%\n",
      "Epoch  1, CIFAR-10 Batch 3:  Validation Loss: 1.5134 & Validation Accuracy: 41.20%\n",
      "Epoch  1, CIFAR-10 Batch 4:  Validation Loss: 1.4752 & Validation Accuracy: 44.16%\n",
      "Epoch  1, CIFAR-10 Batch 5:  Validation Loss: 1.4511 & Validation Accuracy: 47.88%\n",
      "Epoch  2, CIFAR-10 Batch 1:  Validation Loss: 1.5070 & Validation Accuracy: 46.26%\n",
      "Epoch  2, CIFAR-10 Batch 2:  Validation Loss: 1.3635 & Validation Accuracy: 51.40%\n",
      "Epoch  2, CIFAR-10 Batch 3:  Validation Loss: 1.1999 & Validation Accuracy: 51.94%\n",
      "Epoch  2, CIFAR-10 Batch 4:  Validation Loss: 1.2520 & Validation Accuracy: 52.24%\n",
      "Epoch  2, CIFAR-10 Batch 5:  Validation Loss: 1.2742 & Validation Accuracy: 50.04%\n",
      "Epoch  3, CIFAR-10 Batch 1:  Validation Loss: 1.3192 & Validation Accuracy: 54.48%\n",
      "Epoch  3, CIFAR-10 Batch 2:  Validation Loss: 1.2138 & Validation Accuracy: 54.82%\n",
      "Epoch  3, CIFAR-10 Batch 3:  Validation Loss: 1.0864 & Validation Accuracy: 56.12%\n",
      "Epoch  3, CIFAR-10 Batch 4:  Validation Loss: 1.0793 & Validation Accuracy: 56.52%\n",
      "Epoch  3, CIFAR-10 Batch 5:  Validation Loss: 1.1203 & Validation Accuracy: 55.94%\n",
      "Epoch  4, CIFAR-10 Batch 1:  Validation Loss: 1.1959 & Validation Accuracy: 58.08%\n",
      "Epoch  4, CIFAR-10 Batch 2:  Validation Loss: 1.1262 & Validation Accuracy: 57.50%\n",
      "Epoch  4, CIFAR-10 Batch 3:  Validation Loss: 0.9505 & Validation Accuracy: 58.88%\n",
      "Epoch  4, CIFAR-10 Batch 4:  Validation Loss: 0.9891 & Validation Accuracy: 59.38%\n",
      "Epoch  4, CIFAR-10 Batch 5:  Validation Loss: 1.0339 & Validation Accuracy: 58.54%\n",
      "Epoch  5, CIFAR-10 Batch 1:  Validation Loss: 1.0772 & Validation Accuracy: 60.30%\n",
      "Epoch  5, CIFAR-10 Batch 2:  Validation Loss: 1.0469 & Validation Accuracy: 60.44%\n",
      "Epoch  5, CIFAR-10 Batch 3:  Validation Loss: 0.9170 & Validation Accuracy: 61.42%\n",
      "Epoch  5, CIFAR-10 Batch 4:  Validation Loss: 0.8885 & Validation Accuracy: 62.16%\n",
      "Epoch  5, CIFAR-10 Batch 5:  Validation Loss: 0.9203 & Validation Accuracy: 62.26%\n",
      "Epoch  6, CIFAR-10 Batch 1:  Validation Loss: 1.0105 & Validation Accuracy: 61.34%\n",
      "Epoch  6, CIFAR-10 Batch 2:  Validation Loss: 1.0027 & Validation Accuracy: 62.56%\n",
      "Epoch  6, CIFAR-10 Batch 3:  Validation Loss: 0.8799 & Validation Accuracy: 62.78%\n",
      "Epoch  6, CIFAR-10 Batch 4:  Validation Loss: 0.8193 & Validation Accuracy: 64.14%\n",
      "Epoch  6, CIFAR-10 Batch 5:  Validation Loss: 0.8446 & Validation Accuracy: 63.64%\n",
      "Epoch  7, CIFAR-10 Batch 1:  Validation Loss: 0.9384 & Validation Accuracy: 64.50%\n",
      "Epoch  7, CIFAR-10 Batch 2:  Validation Loss: 0.9008 & Validation Accuracy: 64.28%\n",
      "Epoch  7, CIFAR-10 Batch 3:  Validation Loss: 0.7850 & Validation Accuracy: 64.24%\n",
      "Epoch  7, CIFAR-10 Batch 4:  Validation Loss: 0.7484 & Validation Accuracy: 65.68%\n",
      "Epoch  7, CIFAR-10 Batch 5:  Validation Loss: 0.7783 & Validation Accuracy: 65.28%\n",
      "Epoch  8, CIFAR-10 Batch 1:  Validation Loss: 0.8719 & Validation Accuracy: 65.56%\n",
      "Epoch  8, CIFAR-10 Batch 2:  Validation Loss: 0.8570 & Validation Accuracy: 64.34%\n",
      "Epoch  8, CIFAR-10 Batch 3:  Validation Loss: 0.7063 & Validation Accuracy: 66.28%\n",
      "Epoch  8, CIFAR-10 Batch 4:  Validation Loss: 0.7058 & Validation Accuracy: 66.50%\n",
      "Epoch  8, CIFAR-10 Batch 5:  Validation Loss: 0.7182 & Validation Accuracy: 67.46%\n",
      "Epoch  9, CIFAR-10 Batch 1:  Validation Loss: 0.8179 & Validation Accuracy: 66.66%\n",
      "Epoch  9, CIFAR-10 Batch 2:  Validation Loss: 0.8021 & Validation Accuracy: 67.04%\n",
      "Epoch  9, CIFAR-10 Batch 3:  Validation Loss: 0.6816 & Validation Accuracy: 67.60%\n",
      "Epoch  9, CIFAR-10 Batch 4:  Validation Loss: 0.6566 & Validation Accuracy: 68.08%\n",
      "Epoch  9, CIFAR-10 Batch 5:  Validation Loss: 0.6746 & Validation Accuracy: 68.82%\n",
      "Epoch 10, CIFAR-10 Batch 1:  Validation Loss: 0.7902 & Validation Accuracy: 66.40%\n",
      "Epoch 10, CIFAR-10 Batch 2:  Validation Loss: 0.7223 & Validation Accuracy: 68.16%\n",
      "Epoch 10, CIFAR-10 Batch 3:  Validation Loss: 0.6827 & Validation Accuracy: 66.78%\n",
      "Epoch 10, CIFAR-10 Batch 4:  Validation Loss: 0.6543 & Validation Accuracy: 67.36%\n",
      "Epoch 10, CIFAR-10 Batch 5:  Validation Loss: 0.6417 & Validation Accuracy: 69.08%\n",
      "Epoch 11, CIFAR-10 Batch 1:  Validation Loss: 0.7204 & Validation Accuracy: 69.20%\n",
      "Epoch 11, CIFAR-10 Batch 2:  Validation Loss: 0.7190 & Validation Accuracy: 67.52%\n",
      "Epoch 11, CIFAR-10 Batch 3:  Validation Loss: 0.6265 & Validation Accuracy: 67.98%\n",
      "Epoch 11, CIFAR-10 Batch 4:  Validation Loss: 0.5706 & Validation Accuracy: 69.72%\n",
      "Epoch 11, CIFAR-10 Batch 5:  Validation Loss: 0.6249 & Validation Accuracy: 69.46%\n",
      "Epoch 12, CIFAR-10 Batch 1:  Validation Loss: 0.6888 & Validation Accuracy: 69.76%\n",
      "Epoch 12, CIFAR-10 Batch 2:  Validation Loss: 0.6589 & Validation Accuracy: 69.56%\n",
      "Epoch 12, CIFAR-10 Batch 3:  Validation Loss: 0.6076 & Validation Accuracy: 68.08%\n",
      "Epoch 12, CIFAR-10 Batch 4:  Validation Loss: 0.5844 & Validation Accuracy: 69.30%\n",
      "Epoch 12, CIFAR-10 Batch 5:  Validation Loss: 0.5580 & Validation Accuracy: 70.38%\n",
      "Epoch 13, CIFAR-10 Batch 1:  Validation Loss: 0.6494 & Validation Accuracy: 70.14%\n",
      "Epoch 13, CIFAR-10 Batch 2:  Validation Loss: 0.6210 & Validation Accuracy: 70.00%\n",
      "Epoch 13, CIFAR-10 Batch 3:  Validation Loss: 0.5523 & Validation Accuracy: 70.54%\n",
      "Epoch 13, CIFAR-10 Batch 4:  Validation Loss: 0.5312 & Validation Accuracy: 70.26%\n",
      "Epoch 13, CIFAR-10 Batch 5:  Validation Loss: 0.5423 & Validation Accuracy: 71.22%\n",
      "Epoch 14, CIFAR-10 Batch 1:  Validation Loss: 0.6218 & Validation Accuracy: 70.76%\n",
      "Epoch 14, CIFAR-10 Batch 2:  Validation Loss: 0.6299 & Validation Accuracy: 68.98%\n",
      "Epoch 14, CIFAR-10 Batch 3:  Validation Loss: 0.5454 & Validation Accuracy: 69.90%\n",
      "Epoch 14, CIFAR-10 Batch 4:  Validation Loss: 0.5237 & Validation Accuracy: 70.20%\n",
      "Epoch 14, CIFAR-10 Batch 5:  Validation Loss: 0.5318 & Validation Accuracy: 71.26%\n",
      "Epoch 15, CIFAR-10 Batch 1:  Validation Loss: 0.5954 & Validation Accuracy: 71.20%\n",
      "Epoch 15, CIFAR-10 Batch 2:  Validation Loss: 0.5911 & Validation Accuracy: 70.74%\n",
      "Epoch 15, CIFAR-10 Batch 3:  Validation Loss: 0.5301 & Validation Accuracy: 70.92%\n",
      "Epoch 15, CIFAR-10 Batch 4:  Validation Loss: 0.4794 & Validation Accuracy: 71.72%\n",
      "Epoch 15, CIFAR-10 Batch 5:  Validation Loss: 0.4913 & Validation Accuracy: 71.44%\n",
      "Epoch 16, CIFAR-10 Batch 1:  Validation Loss: 0.5459 & Validation Accuracy: 71.50%\n",
      "Epoch 16, CIFAR-10 Batch 2:  Validation Loss: 0.5618 & Validation Accuracy: 70.36%\n",
      "Epoch 16, CIFAR-10 Batch 3:  Validation Loss: 0.4804 & Validation Accuracy: 71.38%\n",
      "Epoch 16, CIFAR-10 Batch 4:  Validation Loss: 0.4695 & Validation Accuracy: 71.20%\n",
      "Epoch 16, CIFAR-10 Batch 5:  Validation Loss: 0.4684 & Validation Accuracy: 71.90%\n",
      "Epoch 17, CIFAR-10 Batch 1:  Validation Loss: 0.5386 & Validation Accuracy: 71.44%\n",
      "Epoch 17, CIFAR-10 Batch 2:  Validation Loss: 0.5011 & Validation Accuracy: 71.84%\n",
      "Epoch 17, CIFAR-10 Batch 3:  Validation Loss: 0.4714 & Validation Accuracy: 71.38%\n",
      "Epoch 17, CIFAR-10 Batch 4:  Validation Loss: 0.4359 & Validation Accuracy: 72.28%\n",
      "Epoch 17, CIFAR-10 Batch 5:  Validation Loss: 0.4502 & Validation Accuracy: 72.80%\n",
      "Epoch 18, CIFAR-10 Batch 1:  Validation Loss: 0.5035 & Validation Accuracy: 71.28%\n",
      "Epoch 18, CIFAR-10 Batch 2:  Validation Loss: 0.4935 & Validation Accuracy: 71.66%\n",
      "Epoch 18, CIFAR-10 Batch 3:  Validation Loss: 0.4485 & Validation Accuracy: 72.40%\n",
      "Epoch 18, CIFAR-10 Batch 4:  Validation Loss: 0.4276 & Validation Accuracy: 72.72%\n",
      "Epoch 18, CIFAR-10 Batch 5:  Validation Loss: 0.4127 & Validation Accuracy: 72.78%\n",
      "Epoch 19, CIFAR-10 Batch 1:  Validation Loss: 0.4748 & Validation Accuracy: 72.06%\n",
      "Epoch 19, CIFAR-10 Batch 2:  Validation Loss: 0.4802 & Validation Accuracy: 71.70%\n",
      "Epoch 19, CIFAR-10 Batch 3:  Validation Loss: 0.4330 & Validation Accuracy: 72.78%\n",
      "Epoch 19, CIFAR-10 Batch 4:  Validation Loss: 0.4084 & Validation Accuracy: 73.18%\n",
      "Epoch 19, CIFAR-10 Batch 5:  Validation Loss: 0.3996 & Validation Accuracy: 73.62%\n",
      "Epoch 20, CIFAR-10 Batch 1:  Validation Loss: 0.4709 & Validation Accuracy: 72.92%\n",
      "Epoch 20, CIFAR-10 Batch 2:  Validation Loss: 0.4384 & Validation Accuracy: 73.66%\n",
      "Epoch 20, CIFAR-10 Batch 3:  Validation Loss: 0.4042 & Validation Accuracy: 73.34%\n",
      "Epoch 20, CIFAR-10 Batch 4:  Validation Loss: 0.4030 & Validation Accuracy: 73.88%\n"
     ]
    },
    {
     "name": "stdout",
     "output_type": "stream",
     "text": [
      "Epoch 20, CIFAR-10 Batch 5:  Validation Loss: 0.3997 & Validation Accuracy: 73.76%\n",
      "Epoch 21, CIFAR-10 Batch 1:  Validation Loss: 0.4240 & Validation Accuracy: 73.94%\n",
      "Epoch 21, CIFAR-10 Batch 2:  Validation Loss: 0.4316 & Validation Accuracy: 72.70%\n",
      "Epoch 21, CIFAR-10 Batch 3:  Validation Loss: 0.3894 & Validation Accuracy: 73.10%\n",
      "Epoch 21, CIFAR-10 Batch 4:  Validation Loss: 0.3890 & Validation Accuracy: 73.56%\n",
      "Epoch 21, CIFAR-10 Batch 5:  Validation Loss: 0.3788 & Validation Accuracy: 73.64%\n",
      "Epoch 22, CIFAR-10 Batch 1:  Validation Loss: 0.4270 & Validation Accuracy: 73.42%\n",
      "Epoch 22, CIFAR-10 Batch 2:  Validation Loss: 0.4598 & Validation Accuracy: 72.64%\n",
      "Epoch 22, CIFAR-10 Batch 3:  Validation Loss: 0.3985 & Validation Accuracy: 72.16%\n",
      "Epoch 22, CIFAR-10 Batch 4:  Validation Loss: 0.3970 & Validation Accuracy: 72.26%\n",
      "Epoch 22, CIFAR-10 Batch 5:  Validation Loss: 0.3618 & Validation Accuracy: 74.08%\n",
      "Epoch 23, CIFAR-10 Batch 1:  Validation Loss: 0.4293 & Validation Accuracy: 72.70%\n",
      "Epoch 23, CIFAR-10 Batch 2:  Validation Loss: 0.4336 & Validation Accuracy: 73.48%\n",
      "Epoch 23, CIFAR-10 Batch 3:  Validation Loss: 0.3886 & Validation Accuracy: 72.36%\n",
      "Epoch 23, CIFAR-10 Batch 4:  Validation Loss: 0.3512 & Validation Accuracy: 73.56%\n",
      "Epoch 23, CIFAR-10 Batch 5:  Validation Loss: 0.3511 & Validation Accuracy: 74.60%\n",
      "Epoch 24, CIFAR-10 Batch 1:  Validation Loss: 0.3880 & Validation Accuracy: 74.56%\n",
      "Epoch 24, CIFAR-10 Batch 2:  Validation Loss: 0.3957 & Validation Accuracy: 73.72%\n",
      "Epoch 24, CIFAR-10 Batch 3:  Validation Loss: 0.3660 & Validation Accuracy: 72.44%\n",
      "Epoch 24, CIFAR-10 Batch 4:  Validation Loss: 0.3412 & Validation Accuracy: 74.16%\n",
      "Epoch 24, CIFAR-10 Batch 5:  Validation Loss: 0.3302 & Validation Accuracy: 74.36%\n",
      "Epoch 25, CIFAR-10 Batch 1:  Validation Loss: 0.3986 & Validation Accuracy: 73.14%\n",
      "Epoch 25, CIFAR-10 Batch 2:  Validation Loss: 0.3990 & Validation Accuracy: 73.68%\n",
      "Epoch 25, CIFAR-10 Batch 3:  Validation Loss: 0.3291 & Validation Accuracy: 74.22%\n",
      "Epoch 25, CIFAR-10 Batch 4:  Validation Loss: 0.3318 & Validation Accuracy: 73.98%\n",
      "Epoch 25, CIFAR-10 Batch 5:  Validation Loss: 0.3322 & Validation Accuracy: 74.98%\n",
      "Epoch 26, CIFAR-10 Batch 1:  Validation Loss: 0.3535 & Validation Accuracy: 74.30%\n",
      "Epoch 26, CIFAR-10 Batch 2:  Validation Loss: 0.3670 & Validation Accuracy: 73.56%\n",
      "Epoch 26, CIFAR-10 Batch 3:  Validation Loss: 0.3072 & Validation Accuracy: 74.62%\n",
      "Epoch 26, CIFAR-10 Batch 4:  Validation Loss: 0.3160 & Validation Accuracy: 74.22%\n",
      "Epoch 26, CIFAR-10 Batch 5:  Validation Loss: 0.3045 & Validation Accuracy: 75.14%\n",
      "Epoch 27, CIFAR-10 Batch 1:  Validation Loss: 0.3696 & Validation Accuracy: 74.10%\n",
      "Epoch 27, CIFAR-10 Batch 2:  Validation Loss: 0.3810 & Validation Accuracy: 74.34%\n",
      "Epoch 27, CIFAR-10 Batch 3:  Validation Loss: 0.3039 & Validation Accuracy: 73.94%\n",
      "Epoch 27, CIFAR-10 Batch 4:  Validation Loss: 0.3070 & Validation Accuracy: 74.58%\n",
      "Epoch 27, CIFAR-10 Batch 5:  Validation Loss: 0.3030 & Validation Accuracy: 75.06%\n",
      "Epoch 28, CIFAR-10 Batch 1:  Validation Loss: 0.3407 & Validation Accuracy: 74.66%\n",
      "Epoch 28, CIFAR-10 Batch 2:  Validation Loss: 0.3380 & Validation Accuracy: 75.50%\n",
      "Epoch 28, CIFAR-10 Batch 3:  Validation Loss: 0.3198 & Validation Accuracy: 73.42%\n",
      "Epoch 28, CIFAR-10 Batch 4:  Validation Loss: 0.3081 & Validation Accuracy: 74.50%\n",
      "Epoch 28, CIFAR-10 Batch 5:  Validation Loss: 0.2863 & Validation Accuracy: 76.14%\n",
      "Epoch 29, CIFAR-10 Batch 1:  Validation Loss: 0.3159 & Validation Accuracy: 75.46%\n",
      "Epoch 29, CIFAR-10 Batch 2:  Validation Loss: 0.3188 & Validation Accuracy: 75.20%\n",
      "Epoch 29, CIFAR-10 Batch 3:  Validation Loss: 0.2727 & Validation Accuracy: 75.26%\n",
      "Epoch 29, CIFAR-10 Batch 4:  Validation Loss: 0.3071 & Validation Accuracy: 74.30%\n",
      "Epoch 29, CIFAR-10 Batch 5:  Validation Loss: 0.2734 & Validation Accuracy: 75.46%\n",
      "Epoch 30, CIFAR-10 Batch 1:  Validation Loss: 0.3384 & Validation Accuracy: 74.58%\n",
      "Epoch 30, CIFAR-10 Batch 2:  Validation Loss: 0.3222 & Validation Accuracy: 74.98%\n",
      "Epoch 30, CIFAR-10 Batch 3:  Validation Loss: 0.2779 & Validation Accuracy: 74.38%\n",
      "Epoch 30, CIFAR-10 Batch 4:  Validation Loss: 0.2920 & Validation Accuracy: 74.04%\n",
      "Epoch 30, CIFAR-10 Batch 5:  Validation Loss: 0.2821 & Validation Accuracy: 74.76%\n",
      "Epoch 31, CIFAR-10 Batch 1:  Validation Loss: 0.3078 & Validation Accuracy: 74.86%\n",
      "Epoch 31, CIFAR-10 Batch 2:  Validation Loss: 0.2979 & Validation Accuracy: 75.48%\n",
      "Epoch 31, CIFAR-10 Batch 3:  Validation Loss: 0.2680 & Validation Accuracy: 74.82%\n",
      "Epoch 31, CIFAR-10 Batch 4:  Validation Loss: 0.2722 & Validation Accuracy: 75.68%\n",
      "Epoch 31, CIFAR-10 Batch 5:  Validation Loss: 0.2713 & Validation Accuracy: 75.60%\n",
      "Epoch 32, CIFAR-10 Batch 1:  Validation Loss: 0.3186 & Validation Accuracy: 75.26%\n",
      "Epoch 32, CIFAR-10 Batch 2:  Validation Loss: 0.3075 & Validation Accuracy: 74.96%\n",
      "Epoch 32, CIFAR-10 Batch 3:  Validation Loss: 0.2649 & Validation Accuracy: 74.42%\n",
      "Epoch 32, CIFAR-10 Batch 4:  Validation Loss: 0.2712 & Validation Accuracy: 76.40%\n",
      "Epoch 32, CIFAR-10 Batch 5:  Validation Loss: 0.2431 & Validation Accuracy: 76.08%\n",
      "Epoch 33, CIFAR-10 Batch 1:  Validation Loss: 0.3333 & Validation Accuracy: 74.94%\n",
      "Epoch 33, CIFAR-10 Batch 2:  Validation Loss: 0.3128 & Validation Accuracy: 75.26%\n",
      "Epoch 33, CIFAR-10 Batch 3:  Validation Loss: 0.2679 & Validation Accuracy: 74.72%\n",
      "Epoch 33, CIFAR-10 Batch 4:  Validation Loss: 0.2565 & Validation Accuracy: 75.20%\n",
      "Epoch 33, CIFAR-10 Batch 5:  Validation Loss: 0.2348 & Validation Accuracy: 76.04%\n",
      "Epoch 34, CIFAR-10 Batch 1:  Validation Loss: 0.2798 & Validation Accuracy: 76.36%\n",
      "Epoch 34, CIFAR-10 Batch 2:  Validation Loss: 0.2955 & Validation Accuracy: 75.04%\n",
      "Epoch 34, CIFAR-10 Batch 3:  Validation Loss: 0.2541 & Validation Accuracy: 74.94%\n",
      "Epoch 34, CIFAR-10 Batch 4:  Validation Loss: 0.2337 & Validation Accuracy: 75.84%\n",
      "Epoch 34, CIFAR-10 Batch 5:  Validation Loss: 0.2231 & Validation Accuracy: 75.74%\n",
      "Epoch 35, CIFAR-10 Batch 1:  Validation Loss: 0.2751 & Validation Accuracy: 76.04%\n",
      "Epoch 35, CIFAR-10 Batch 2:  Validation Loss: 0.2635 & Validation Accuracy: 76.50%\n",
      "Epoch 35, CIFAR-10 Batch 3:  Validation Loss: 0.2289 & Validation Accuracy: 75.30%\n",
      "Epoch 35, CIFAR-10 Batch 4:  Validation Loss: 0.2380 & Validation Accuracy: 75.94%\n",
      "Epoch 35, CIFAR-10 Batch 5:  Validation Loss: 0.2148 & Validation Accuracy: 76.40%\n"
     ]
    }
   ],
   "source": [
    "\"\"\"\n",
    "DON'T MODIFY ANYTHING IN THIS CELL\n",
    "\"\"\"\n",
    "save_model_path = './image_classification'\n",
    "\n",
    "print('Training...')\n",
    "with tf.Session() as sess:\n",
    "    # Initializing the variables\n",
    "    sess.run(tf.global_variables_initializer())\n",
    "    \n",
    "    # Training cycle\n",
    "    for epoch in range(epochs):\n",
    "        # Loop over all batches\n",
    "        n_batches = 5\n",
    "        for batch_i in range(1, n_batches + 1):\n",
    "            for batch_features, batch_labels in helper.load_preprocess_training_batch(batch_i, batch_size):\n",
    "                train_neural_network(sess, optimizer, keep_probability, batch_features, batch_labels)\n",
    "            print('Epoch {:>2}, CIFAR-10 Batch {}:  '.format(epoch + 1, batch_i), end='')\n",
    "            print_stats(sess, batch_features, batch_labels, cost, accuracy)\n",
    "            \n",
    "    # Save Model\n",
    "    saver = tf.train.Saver()\n",
    "    save_path = saver.save(sess, save_model_path)"
   ]
  },
  {
   "cell_type": "markdown",
   "metadata": {},
   "source": [
    "# Checkpoint\n",
    "The model has been saved to disk.\n",
    "## Test Model\n",
    "Test your model against the test dataset.  This will be your final accuracy. You should have an accuracy greater than 50%. If you don't, keep tweaking the model architecture and parameters."
   ]
  },
  {
   "cell_type": "code",
   "execution_count": 21,
   "metadata": {},
   "outputs": [
    {
     "name": "stdout",
     "output_type": "stream",
     "text": [
      "INFO:tensorflow:Restoring parameters from ./image_classification\n",
      "Testing Accuracy: 0.7537454038858413\n",
      "\n"
     ]
    },
    {
     "data": {
      "image/png": "[encoded data removed]",
      "text/plain": [
       "<matplotlib.figure.Figure at 0x11f3c7080>"
      ]
     },
     "metadata": {
      "image/png": {
       "height": 319,
       "width": 355
      }
     },
     "output_type": "display_data"
    }
   ],
   "source": [
    "\"\"\"\n",
    "DON'T MODIFY ANYTHING IN THIS CELL\n",
    "\"\"\"\n",
    "%matplotlib inline\n",
    "%config InlineBackend.figure_format = 'retina'\n",
    "\n",
    "import tensorflow as tf\n",
    "import pickle\n",
    "import helper\n",
    "import random\n",
    "\n",
    "# Set batch size if not already set\n",
    "try:\n",
    "    if batch_size:\n",
    "        pass\n",
    "except NameError:\n",
    "    batch_size = 64\n",
    "\n",
    "save_model_path = './image_classification'\n",
    "n_samples = 4\n",
    "top_n_predictions = 3\n",
    "\n",
    "def test_model():\n",
    "    \"\"\"\n",
    "    Test the saved model against the test dataset\n",
    "    \"\"\"\n",
    "\n",
    "    test_features, test_labels = pickle.load(open('preprocess_test.p', mode='rb'))\n",
    "    loaded_graph = tf.Graph()\n",
    "\n",
    "    with tf.Session(graph=loaded_graph) as sess:\n",
    "        # Load model\n",
    "        loader = tf.train.import_meta_graph(save_model_path + '.meta')\n",
    "        loader.restore(sess, save_model_path)\n",
    "\n",
    "        # Get Tensors from loaded model\n",
    "        loaded_x = loaded_graph.get_tensor_by_name('x:0')\n",
    "        loaded_y = loaded_graph.get_tensor_by_name('y:0')\n",
    "        loaded_keep_prob = loaded_graph.get_tensor_by_name('keep_prob:0')\n",
    "        loaded_logits = loaded_graph.get_tensor_by_name('logits:0')\n",
    "        loaded_acc = loaded_graph.get_tensor_by_name('accuracy:0')\n",
    "        \n",
    "        # Get accuracy in batches for memory limitations\n",
    "        test_batch_acc_total = 0\n",
    "        test_batch_count = 0\n",
    "        \n",
    "        for test_feature_batch, test_label_batch in helper.batch_features_labels(test_features, test_labels, batch_size):\n",
    "            test_batch_acc_total += sess.run(\n",
    "                loaded_acc,\n",
    "                feed_dict={loaded_x: test_feature_batch, loaded_y: test_label_batch, loaded_keep_prob: 1.0})\n",
    "            test_batch_count += 1\n",
    "\n",
    "        print('Testing Accuracy: {}\\n'.format(test_batch_acc_total/test_batch_count))\n",
    "\n",
    "        # Print Random Samples\n",
    "        random_test_features, random_test_labels = tuple(zip(*random.sample(list(zip(test_features, test_labels)), n_samples)))\n",
    "        random_test_predictions = sess.run(\n",
    "            tf.nn.top_k(tf.nn.softmax(loaded_logits), top_n_predictions),\n",
    "            feed_dict={loaded_x: random_test_features, loaded_y: random_test_labels, loaded_keep_prob: 1.0})\n",
    "        helper.display_image_predictions(random_test_features, random_test_labels, random_test_predictions)\n",
    "\n",
    "\n",
    "test_model()"
   ]
  },
  {
   "cell_type": "markdown",
   "metadata": {},
   "source": [
    "## Why 50-80% Accuracy?\n",
    "You might be wondering why you can't get an accuracy any higher. First things first, 50% isn't bad for a simple CNN.  Pure guessing would get you 10% accuracy. However, you might notice people are getting scores [well above 80%](http://rodrigob.github.io/are_we_there_yet/build/classification_datasets_results.html#43494641522d3130).  That's because we haven't taught you all there is to know about neural networks. We still need to cover a few more techniques.\n",
    "## Submitting This Project\n",
    "When submitting this project, make sure to run all the cells before saving the notebook.  Save the notebook file as \"dlnd_image_classification.ipynb\" and save it as a HTML file under \"File\" -> \"Download as\".  Include the \"helper.py\" and \"problem_unittests.py\" files in your submission."
   ]
  },
  {
   "cell_type": "code",
   "execution_count": null,
   "metadata": {
    "collapsed": true
   },
   "outputs": [],
   "source": []
  }
 ],
 "metadata": {
  "kernelspec": {
   "display_name": "Python 3",
   "language": "python",
   "name": "python3"
  },
  "language_info": {
   "codemirror_mode": {
    "name": "ipython",
    "version": 3
   },
   "file_extension": ".py",
   "mimetype": "text/x-python",
   "name": "python",
   "nbconvert_exporter": "python",
   "pygments_lexer": "ipython3",
   "version": "3.6.2"
  }
 },
 "nbformat": 4,
 "nbformat_minor": 1
}
